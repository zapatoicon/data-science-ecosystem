{
 "cells": [
  {
   "cell_type": "code",
   "execution_count": 1,
   "id": "1ab633e6",
   "metadata": {},
   "outputs": [],
   "source": [
    "import pandas as pd\n",
    "import matplotlib.pyplot as plt\n",
    "from sklearn.compose import ColumnTransformer\n",
    "from sklearn.pipeline import Pipeline\n",
    "from sklearn.preprocessing import StandardScaler, OneHotEncoder\n",
    "from sklearn.model_selection import train_test_split, GridSearchCV, StratifiedKFold\n",
    "from sklearn.ensemble import RandomForestClassifier\n",
    "from sklearn.linear_model import LogisticRegression\n",
    "from sklearn.metrics import classification_report, confusion_matrix, ConfusionMatrixDisplay\n",
    "import seaborn as sns"
   ]
  },
  {
   "cell_type": "code",
   "execution_count": 2,
   "id": "ea4acaf4",
   "metadata": {},
   "outputs": [
    {
     "data": {
      "text/html": [
       "<div>\n",
       "<style scoped>\n",
       "    .dataframe tbody tr th:only-of-type {\n",
       "        vertical-align: middle;\n",
       "    }\n",
       "\n",
       "    .dataframe tbody tr th {\n",
       "        vertical-align: top;\n",
       "    }\n",
       "\n",
       "    .dataframe thead th {\n",
       "        text-align: right;\n",
       "    }\n",
       "</style>\n",
       "<table border=\"1\" class=\"dataframe\">\n",
       "  <thead>\n",
       "    <tr style=\"text-align: right;\">\n",
       "      <th></th>\n",
       "      <th>Date</th>\n",
       "      <th>Location</th>\n",
       "      <th>MinTemp</th>\n",
       "      <th>MaxTemp</th>\n",
       "      <th>Rainfall</th>\n",
       "      <th>Evaporation</th>\n",
       "      <th>Sunshine</th>\n",
       "      <th>WindGustDir</th>\n",
       "      <th>WindGustSpeed</th>\n",
       "      <th>WindDir9am</th>\n",
       "      <th>...</th>\n",
       "      <th>Humidity9am</th>\n",
       "      <th>Humidity3pm</th>\n",
       "      <th>Pressure9am</th>\n",
       "      <th>Pressure3pm</th>\n",
       "      <th>Cloud9am</th>\n",
       "      <th>Cloud3pm</th>\n",
       "      <th>Temp9am</th>\n",
       "      <th>Temp3pm</th>\n",
       "      <th>RainToday</th>\n",
       "      <th>RainTomorrow</th>\n",
       "    </tr>\n",
       "  </thead>\n",
       "  <tbody>\n",
       "    <tr>\n",
       "      <th>0</th>\n",
       "      <td>2008-12-01</td>\n",
       "      <td>Albury</td>\n",
       "      <td>13.4</td>\n",
       "      <td>22.9</td>\n",
       "      <td>0.6</td>\n",
       "      <td>NaN</td>\n",
       "      <td>NaN</td>\n",
       "      <td>W</td>\n",
       "      <td>44.0</td>\n",
       "      <td>W</td>\n",
       "      <td>...</td>\n",
       "      <td>71.0</td>\n",
       "      <td>22.0</td>\n",
       "      <td>1007.7</td>\n",
       "      <td>1007.1</td>\n",
       "      <td>8.0</td>\n",
       "      <td>NaN</td>\n",
       "      <td>16.9</td>\n",
       "      <td>21.8</td>\n",
       "      <td>No</td>\n",
       "      <td>No</td>\n",
       "    </tr>\n",
       "    <tr>\n",
       "      <th>1</th>\n",
       "      <td>2008-12-02</td>\n",
       "      <td>Albury</td>\n",
       "      <td>7.4</td>\n",
       "      <td>25.1</td>\n",
       "      <td>0.0</td>\n",
       "      <td>NaN</td>\n",
       "      <td>NaN</td>\n",
       "      <td>WNW</td>\n",
       "      <td>44.0</td>\n",
       "      <td>NNW</td>\n",
       "      <td>...</td>\n",
       "      <td>44.0</td>\n",
       "      <td>25.0</td>\n",
       "      <td>1010.6</td>\n",
       "      <td>1007.8</td>\n",
       "      <td>NaN</td>\n",
       "      <td>NaN</td>\n",
       "      <td>17.2</td>\n",
       "      <td>24.3</td>\n",
       "      <td>No</td>\n",
       "      <td>No</td>\n",
       "    </tr>\n",
       "    <tr>\n",
       "      <th>2</th>\n",
       "      <td>2008-12-03</td>\n",
       "      <td>Albury</td>\n",
       "      <td>12.9</td>\n",
       "      <td>25.7</td>\n",
       "      <td>0.0</td>\n",
       "      <td>NaN</td>\n",
       "      <td>NaN</td>\n",
       "      <td>WSW</td>\n",
       "      <td>46.0</td>\n",
       "      <td>W</td>\n",
       "      <td>...</td>\n",
       "      <td>38.0</td>\n",
       "      <td>30.0</td>\n",
       "      <td>1007.6</td>\n",
       "      <td>1008.7</td>\n",
       "      <td>NaN</td>\n",
       "      <td>2.0</td>\n",
       "      <td>21.0</td>\n",
       "      <td>23.2</td>\n",
       "      <td>No</td>\n",
       "      <td>No</td>\n",
       "    </tr>\n",
       "    <tr>\n",
       "      <th>3</th>\n",
       "      <td>2008-12-04</td>\n",
       "      <td>Albury</td>\n",
       "      <td>9.2</td>\n",
       "      <td>28.0</td>\n",
       "      <td>0.0</td>\n",
       "      <td>NaN</td>\n",
       "      <td>NaN</td>\n",
       "      <td>NE</td>\n",
       "      <td>24.0</td>\n",
       "      <td>SE</td>\n",
       "      <td>...</td>\n",
       "      <td>45.0</td>\n",
       "      <td>16.0</td>\n",
       "      <td>1017.6</td>\n",
       "      <td>1012.8</td>\n",
       "      <td>NaN</td>\n",
       "      <td>NaN</td>\n",
       "      <td>18.1</td>\n",
       "      <td>26.5</td>\n",
       "      <td>No</td>\n",
       "      <td>No</td>\n",
       "    </tr>\n",
       "    <tr>\n",
       "      <th>4</th>\n",
       "      <td>2008-12-05</td>\n",
       "      <td>Albury</td>\n",
       "      <td>17.5</td>\n",
       "      <td>32.3</td>\n",
       "      <td>1.0</td>\n",
       "      <td>NaN</td>\n",
       "      <td>NaN</td>\n",
       "      <td>W</td>\n",
       "      <td>41.0</td>\n",
       "      <td>ENE</td>\n",
       "      <td>...</td>\n",
       "      <td>82.0</td>\n",
       "      <td>33.0</td>\n",
       "      <td>1010.8</td>\n",
       "      <td>1006.0</td>\n",
       "      <td>7.0</td>\n",
       "      <td>8.0</td>\n",
       "      <td>17.8</td>\n",
       "      <td>29.7</td>\n",
       "      <td>No</td>\n",
       "      <td>No</td>\n",
       "    </tr>\n",
       "  </tbody>\n",
       "</table>\n",
       "<p>5 rows × 23 columns</p>\n",
       "</div>"
      ],
      "text/plain": [
       "         Date Location  MinTemp  MaxTemp  Rainfall  Evaporation  Sunshine  \\\n",
       "0  2008-12-01   Albury     13.4     22.9       0.6          NaN       NaN   \n",
       "1  2008-12-02   Albury      7.4     25.1       0.0          NaN       NaN   \n",
       "2  2008-12-03   Albury     12.9     25.7       0.0          NaN       NaN   \n",
       "3  2008-12-04   Albury      9.2     28.0       0.0          NaN       NaN   \n",
       "4  2008-12-05   Albury     17.5     32.3       1.0          NaN       NaN   \n",
       "\n",
       "  WindGustDir  WindGustSpeed WindDir9am  ... Humidity9am  Humidity3pm  \\\n",
       "0           W           44.0          W  ...        71.0         22.0   \n",
       "1         WNW           44.0        NNW  ...        44.0         25.0   \n",
       "2         WSW           46.0          W  ...        38.0         30.0   \n",
       "3          NE           24.0         SE  ...        45.0         16.0   \n",
       "4           W           41.0        ENE  ...        82.0         33.0   \n",
       "\n",
       "   Pressure9am  Pressure3pm  Cloud9am  Cloud3pm  Temp9am  Temp3pm  RainToday  \\\n",
       "0       1007.7       1007.1       8.0       NaN     16.9     21.8         No   \n",
       "1       1010.6       1007.8       NaN       NaN     17.2     24.3         No   \n",
       "2       1007.6       1008.7       NaN       2.0     21.0     23.2         No   \n",
       "3       1017.6       1012.8       NaN       NaN     18.1     26.5         No   \n",
       "4       1010.8       1006.0       7.0       8.0     17.8     29.7         No   \n",
       "\n",
       "   RainTomorrow  \n",
       "0            No  \n",
       "1            No  \n",
       "2            No  \n",
       "3            No  \n",
       "4            No  \n",
       "\n",
       "[5 rows x 23 columns]"
      ]
     },
     "execution_count": 2,
     "metadata": {},
     "output_type": "execute_result"
    }
   ],
   "source": [
    "url=\"https://cf-courses-data.s3.us.cloud-object-storage.appdomain.cloud/_0eYOqji3unP1tDNKWZMjg/weatherAUS-2.csv\"\n",
    "df = pd.read_csv(url)\n",
    "df.head()"
   ]
  },
  {
   "cell_type": "code",
   "execution_count": 3,
   "id": "1053d077",
   "metadata": {},
   "outputs": [
    {
     "data": {
      "text/plain": [
       "Date             145460\n",
       "Location         145460\n",
       "MinTemp          143975\n",
       "MaxTemp          144199\n",
       "Rainfall         142199\n",
       "Evaporation       82670\n",
       "Sunshine          75625\n",
       "WindGustDir      135134\n",
       "WindGustSpeed    135197\n",
       "WindDir9am       134894\n",
       "WindDir3pm       141232\n",
       "WindSpeed9am     143693\n",
       "WindSpeed3pm     142398\n",
       "Humidity9am      142806\n",
       "Humidity3pm      140953\n",
       "Pressure9am      130395\n",
       "Pressure3pm      130432\n",
       "Cloud9am          89572\n",
       "Cloud3pm          86102\n",
       "Temp9am          143693\n",
       "Temp3pm          141851\n",
       "RainToday        142199\n",
       "RainTomorrow     142193\n",
       "dtype: int64"
      ]
     },
     "execution_count": 3,
     "metadata": {},
     "output_type": "execute_result"
    }
   ],
   "source": [
    "df.count()"
   ]
  },
  {
   "cell_type": "code",
   "execution_count": 4,
   "id": "5d6cf548",
   "metadata": {},
   "outputs": [
    {
     "name": "stdout",
     "output_type": "stream",
     "text": [
      "<class 'pandas.core.frame.DataFrame'>\n",
      "Index: 56420 entries, 6049 to 142302\n",
      "Data columns (total 23 columns):\n",
      " #   Column         Non-Null Count  Dtype  \n",
      "---  ------         --------------  -----  \n",
      " 0   Date           56420 non-null  object \n",
      " 1   Location       56420 non-null  object \n",
      " 2   MinTemp        56420 non-null  float64\n",
      " 3   MaxTemp        56420 non-null  float64\n",
      " 4   Rainfall       56420 non-null  float64\n",
      " 5   Evaporation    56420 non-null  float64\n",
      " 6   Sunshine       56420 non-null  float64\n",
      " 7   WindGustDir    56420 non-null  object \n",
      " 8   WindGustSpeed  56420 non-null  float64\n",
      " 9   WindDir9am     56420 non-null  object \n",
      " 10  WindDir3pm     56420 non-null  object \n",
      " 11  WindSpeed9am   56420 non-null  float64\n",
      " 12  WindSpeed3pm   56420 non-null  float64\n",
      " 13  Humidity9am    56420 non-null  float64\n",
      " 14  Humidity3pm    56420 non-null  float64\n",
      " 15  Pressure9am    56420 non-null  float64\n",
      " 16  Pressure3pm    56420 non-null  float64\n",
      " 17  Cloud9am       56420 non-null  float64\n",
      " 18  Cloud3pm       56420 non-null  float64\n",
      " 19  Temp9am        56420 non-null  float64\n",
      " 20  Temp3pm        56420 non-null  float64\n",
      " 21  RainToday      56420 non-null  object \n",
      " 22  RainTomorrow   56420 non-null  object \n",
      "dtypes: float64(16), object(7)\n",
      "memory usage: 10.3+ MB\n"
     ]
    }
   ],
   "source": [
    "#drop all rows with missing value\n",
    "df = df.dropna()\n",
    "df.info()"
   ]
  },
  {
   "cell_type": "code",
   "execution_count": 6,
   "id": "e9c5a4fb",
   "metadata": {},
   "outputs": [
    {
     "data": {
      "text/plain": [
       "Index(['Date', 'Location', 'MinTemp', 'MaxTemp', 'Rainfall', 'Evaporation',\n",
       "       'Sunshine', 'WindGustDir', 'WindGustSpeed', 'WindDir9am', 'WindDir3pm',\n",
       "       'WindSpeed9am', 'WindSpeed3pm', 'Humidity9am', 'Humidity3pm',\n",
       "       'Pressure9am', 'Pressure3pm', 'Cloud9am', 'Cloud3pm', 'Temp9am',\n",
       "       'Temp3pm', 'RainToday', 'RainTomorrow'],\n",
       "      dtype='object')"
      ]
     },
     "execution_count": 6,
     "metadata": {},
     "output_type": "execute_result"
    }
   ],
   "source": [
    "df.columns"
   ]
  },
  {
   "cell_type": "code",
   "execution_count": 7,
   "id": "21f8d474",
   "metadata": {},
   "outputs": [],
   "source": [
    "df = df.rename(columns={'RainToday': 'RainYesterday',\n",
    "                        'RainTomorrow': 'RainToday'\n",
    "                        })"
   ]
  },
  {
   "cell_type": "code",
   "execution_count": 8,
   "id": "255e59ec",
   "metadata": {},
   "outputs": [
    {
     "name": "stdout",
     "output_type": "stream",
     "text": [
      "<class 'pandas.core.frame.DataFrame'>\n",
      "Index: 7557 entries, 64191 to 80997\n",
      "Data columns (total 23 columns):\n",
      " #   Column         Non-Null Count  Dtype  \n",
      "---  ------         --------------  -----  \n",
      " 0   Date           7557 non-null   object \n",
      " 1   Location       7557 non-null   object \n",
      " 2   MinTemp        7557 non-null   float64\n",
      " 3   MaxTemp        7557 non-null   float64\n",
      " 4   Rainfall       7557 non-null   float64\n",
      " 5   Evaporation    7557 non-null   float64\n",
      " 6   Sunshine       7557 non-null   float64\n",
      " 7   WindGustDir    7557 non-null   object \n",
      " 8   WindGustSpeed  7557 non-null   float64\n",
      " 9   WindDir9am     7557 non-null   object \n",
      " 10  WindDir3pm     7557 non-null   object \n",
      " 11  WindSpeed9am   7557 non-null   float64\n",
      " 12  WindSpeed3pm   7557 non-null   float64\n",
      " 13  Humidity9am    7557 non-null   float64\n",
      " 14  Humidity3pm    7557 non-null   float64\n",
      " 15  Pressure9am    7557 non-null   float64\n",
      " 16  Pressure3pm    7557 non-null   float64\n",
      " 17  Cloud9am       7557 non-null   float64\n",
      " 18  Cloud3pm       7557 non-null   float64\n",
      " 19  Temp9am        7557 non-null   float64\n",
      " 20  Temp3pm        7557 non-null   float64\n",
      " 21  RainYesterday  7557 non-null   object \n",
      " 22  RainToday      7557 non-null   object \n",
      "dtypes: float64(16), object(7)\n",
      "memory usage: 1.4+ MB\n"
     ]
    }
   ],
   "source": [
    "df = df[df.Location.isin(['Melbourne','MelbourneAirport','Watsonia',])]\n",
    "df. info()"
   ]
  },
  {
   "cell_type": "code",
   "execution_count": 9,
   "id": "b4392c6e",
   "metadata": {},
   "outputs": [],
   "source": [
    "def date_to_season(date):\n",
    "    month = date.month\n",
    "    if (month == 12) or (month == 1) or (month == 2):\n",
    "        return 'Summer'\n",
    "    elif (month == 3) or (month == 4) or (month == 5):\n",
    "        return 'Autumn'\n",
    "    elif (month == 6) or (month == 7) or (month == 8):\n",
    "        return 'Winter'\n",
    "    elif (month == 9) or (month == 10) or (month == 11):\n",
    "        return 'Spring'"
   ]
  },
  {
   "cell_type": "code",
   "execution_count": 11,
   "id": "f2992ce4",
   "metadata": {},
   "outputs": [
    {
     "data": {
      "text/html": [
       "<div>\n",
       "<style scoped>\n",
       "    .dataframe tbody tr th:only-of-type {\n",
       "        vertical-align: middle;\n",
       "    }\n",
       "\n",
       "    .dataframe tbody tr th {\n",
       "        vertical-align: top;\n",
       "    }\n",
       "\n",
       "    .dataframe thead th {\n",
       "        text-align: right;\n",
       "    }\n",
       "</style>\n",
       "<table border=\"1\" class=\"dataframe\">\n",
       "  <thead>\n",
       "    <tr style=\"text-align: right;\">\n",
       "      <th></th>\n",
       "      <th>Location</th>\n",
       "      <th>MinTemp</th>\n",
       "      <th>MaxTemp</th>\n",
       "      <th>Rainfall</th>\n",
       "      <th>Evaporation</th>\n",
       "      <th>Sunshine</th>\n",
       "      <th>WindGustDir</th>\n",
       "      <th>WindGustSpeed</th>\n",
       "      <th>WindDir9am</th>\n",
       "      <th>WindDir3pm</th>\n",
       "      <th>...</th>\n",
       "      <th>Humidity3pm</th>\n",
       "      <th>Pressure9am</th>\n",
       "      <th>Pressure3pm</th>\n",
       "      <th>Cloud9am</th>\n",
       "      <th>Cloud3pm</th>\n",
       "      <th>Temp9am</th>\n",
       "      <th>Temp3pm</th>\n",
       "      <th>RainYesterday</th>\n",
       "      <th>RainToday</th>\n",
       "      <th>Season</th>\n",
       "    </tr>\n",
       "  </thead>\n",
       "  <tbody>\n",
       "    <tr>\n",
       "      <th>64191</th>\n",
       "      <td>MelbourneAirport</td>\n",
       "      <td>11.2</td>\n",
       "      <td>19.9</td>\n",
       "      <td>0.0</td>\n",
       "      <td>5.6</td>\n",
       "      <td>8.8</td>\n",
       "      <td>SW</td>\n",
       "      <td>69.0</td>\n",
       "      <td>W</td>\n",
       "      <td>SW</td>\n",
       "      <td>...</td>\n",
       "      <td>37.0</td>\n",
       "      <td>1005.1</td>\n",
       "      <td>1006.4</td>\n",
       "      <td>7.0</td>\n",
       "      <td>7.0</td>\n",
       "      <td>15.9</td>\n",
       "      <td>18.1</td>\n",
       "      <td>No</td>\n",
       "      <td>Yes</td>\n",
       "      <td>Summer</td>\n",
       "    </tr>\n",
       "    <tr>\n",
       "      <th>64192</th>\n",
       "      <td>MelbourneAirport</td>\n",
       "      <td>7.8</td>\n",
       "      <td>17.8</td>\n",
       "      <td>1.2</td>\n",
       "      <td>7.2</td>\n",
       "      <td>12.9</td>\n",
       "      <td>SSE</td>\n",
       "      <td>56.0</td>\n",
       "      <td>SW</td>\n",
       "      <td>SSE</td>\n",
       "      <td>...</td>\n",
       "      <td>43.0</td>\n",
       "      <td>1018.0</td>\n",
       "      <td>1019.3</td>\n",
       "      <td>6.0</td>\n",
       "      <td>7.0</td>\n",
       "      <td>12.5</td>\n",
       "      <td>15.8</td>\n",
       "      <td>Yes</td>\n",
       "      <td>No</td>\n",
       "      <td>Summer</td>\n",
       "    </tr>\n",
       "    <tr>\n",
       "      <th>64193</th>\n",
       "      <td>MelbourneAirport</td>\n",
       "      <td>6.3</td>\n",
       "      <td>21.1</td>\n",
       "      <td>0.0</td>\n",
       "      <td>6.2</td>\n",
       "      <td>10.5</td>\n",
       "      <td>SSE</td>\n",
       "      <td>31.0</td>\n",
       "      <td>E</td>\n",
       "      <td>S</td>\n",
       "      <td>...</td>\n",
       "      <td>35.0</td>\n",
       "      <td>1020.8</td>\n",
       "      <td>1017.6</td>\n",
       "      <td>1.0</td>\n",
       "      <td>7.0</td>\n",
       "      <td>13.4</td>\n",
       "      <td>19.6</td>\n",
       "      <td>No</td>\n",
       "      <td>No</td>\n",
       "      <td>Summer</td>\n",
       "    </tr>\n",
       "    <tr>\n",
       "      <th>64194</th>\n",
       "      <td>MelbourneAirport</td>\n",
       "      <td>8.1</td>\n",
       "      <td>29.2</td>\n",
       "      <td>0.0</td>\n",
       "      <td>6.4</td>\n",
       "      <td>12.5</td>\n",
       "      <td>SSE</td>\n",
       "      <td>35.0</td>\n",
       "      <td>NE</td>\n",
       "      <td>SSE</td>\n",
       "      <td>...</td>\n",
       "      <td>23.0</td>\n",
       "      <td>1016.2</td>\n",
       "      <td>1012.8</td>\n",
       "      <td>5.0</td>\n",
       "      <td>4.0</td>\n",
       "      <td>16.0</td>\n",
       "      <td>28.2</td>\n",
       "      <td>No</td>\n",
       "      <td>No</td>\n",
       "      <td>Summer</td>\n",
       "    </tr>\n",
       "    <tr>\n",
       "      <th>64195</th>\n",
       "      <td>MelbourneAirport</td>\n",
       "      <td>9.7</td>\n",
       "      <td>29.0</td>\n",
       "      <td>0.0</td>\n",
       "      <td>7.4</td>\n",
       "      <td>12.3</td>\n",
       "      <td>SE</td>\n",
       "      <td>33.0</td>\n",
       "      <td>SW</td>\n",
       "      <td>SSE</td>\n",
       "      <td>...</td>\n",
       "      <td>31.0</td>\n",
       "      <td>1011.9</td>\n",
       "      <td>1010.3</td>\n",
       "      <td>6.0</td>\n",
       "      <td>2.0</td>\n",
       "      <td>19.4</td>\n",
       "      <td>27.1</td>\n",
       "      <td>No</td>\n",
       "      <td>No</td>\n",
       "      <td>Summer</td>\n",
       "    </tr>\n",
       "  </tbody>\n",
       "</table>\n",
       "<p>5 rows × 23 columns</p>\n",
       "</div>"
      ],
      "text/plain": [
       "               Location  MinTemp  MaxTemp  Rainfall  Evaporation  Sunshine  \\\n",
       "64191  MelbourneAirport     11.2     19.9       0.0          5.6       8.8   \n",
       "64192  MelbourneAirport      7.8     17.8       1.2          7.2      12.9   \n",
       "64193  MelbourneAirport      6.3     21.1       0.0          6.2      10.5   \n",
       "64194  MelbourneAirport      8.1     29.2       0.0          6.4      12.5   \n",
       "64195  MelbourneAirport      9.7     29.0       0.0          7.4      12.3   \n",
       "\n",
       "      WindGustDir  WindGustSpeed WindDir9am WindDir3pm  ...  Humidity3pm  \\\n",
       "64191          SW           69.0          W         SW  ...         37.0   \n",
       "64192         SSE           56.0         SW        SSE  ...         43.0   \n",
       "64193         SSE           31.0          E          S  ...         35.0   \n",
       "64194         SSE           35.0         NE        SSE  ...         23.0   \n",
       "64195          SE           33.0         SW        SSE  ...         31.0   \n",
       "\n",
       "       Pressure9am  Pressure3pm  Cloud9am  Cloud3pm  Temp9am  Temp3pm  \\\n",
       "64191       1005.1       1006.4       7.0       7.0     15.9     18.1   \n",
       "64192       1018.0       1019.3       6.0       7.0     12.5     15.8   \n",
       "64193       1020.8       1017.6       1.0       7.0     13.4     19.6   \n",
       "64194       1016.2       1012.8       5.0       4.0     16.0     28.2   \n",
       "64195       1011.9       1010.3       6.0       2.0     19.4     27.1   \n",
       "\n",
       "       RainYesterday  RainToday  Season  \n",
       "64191             No        Yes  Summer  \n",
       "64192            Yes         No  Summer  \n",
       "64193             No         No  Summer  \n",
       "64194             No         No  Summer  \n",
       "64195             No         No  Summer  \n",
       "\n",
       "[5 rows x 23 columns]"
      ]
     },
     "execution_count": 11,
     "metadata": {},
     "output_type": "execute_result"
    }
   ],
   "source": [
    "# Convert the 'Date' column to datetime format\n",
    "df['Date'] = pd.to_datetime(df['Date'])\n",
    "\n",
    "# Apply the function to the 'Date' column\n",
    "df['Season'] = df['Date'].apply(date_to_season)\n",
    "\n",
    "# Drop the 'Date' column as it's no longer needed\n",
    "df = df.drop(columns=['Date'])\n",
    "\n",
    "# Display the updated dataframe\n",
    "df.head()\n"
   ]
  },
  {
   "cell_type": "code",
   "execution_count": 12,
   "id": "820a83df",
   "metadata": {},
   "outputs": [
    {
     "name": "stdout",
     "output_type": "stream",
     "text": [
      "(7557, 22) (7557,)\n"
     ]
    }
   ],
   "source": [
    "# Define feature dataframe (X) by dropping the target column\n",
    "X = df.drop(columns=['RainToday'], axis=1)\n",
    "\n",
    "# Define target variable (y)\n",
    "y = df['RainToday']\n",
    "\n",
    "# Display shapes of X and y to verify\n",
    "print(X.shape, y.shape)\n"
   ]
  },
  {
   "cell_type": "code",
   "execution_count": 13,
   "id": "1e05679a",
   "metadata": {},
   "outputs": [
    {
     "data": {
      "text/plain": [
       "RainToday\n",
       "No     5766\n",
       "Yes    1791\n",
       "Name: count, dtype: int64"
      ]
     },
     "execution_count": 13,
     "metadata": {},
     "output_type": "execute_result"
    }
   ],
   "source": [
    "# Check class distribution in the target variable\n",
    "y.value_counts()\n"
   ]
  },
  {
   "cell_type": "markdown",
   "id": "fb900d5e",
   "metadata": {},
   "source": [
    "Exercise 4: Analysis of Class Distribution\n",
    "-How often does it rain annually in Melbourne?\n",
    "\n",
    "There are 1,791 \"Yes\" (rainy days) and 5,766 \"No\" (dry days) in the dataset.\n",
    "\n",
    "Proportion of rainy days:\n",
    "\n",
    "11791/(1791+5766)\n",
    " ≈23.7%\n",
    "Conclusion: It rains about 24% of the time in the Melbourne area.\n",
    "\n",
    " \n",
    " -How accurate would I be if I always predicted \"No Rain\"?\n",
    "\n",
    "If you always predicted \"No\", your accuracy would be:\n",
    "\n",
    "5766/(5766+1791)≈76.3%\n",
    "Conclusion: A simple \"No Rain\" classifier would be 76.3% accurate\n",
    "\n",
    "\n",
    "-Is this dataset balanced?\n",
    "\n",
    "No, it's imbalanced. The dataset is skewed towards \"No Rain\" (76.3% vs. 23.7%).\n",
    "\n",
    "\n"
   ]
  },
  {
   "cell_type": "code",
   "execution_count": 15,
   "id": "d223a344",
   "metadata": {},
   "outputs": [
    {
     "name": "stdout",
     "output_type": "stream",
     "text": [
      "RainToday\n",
      "No     0.762945\n",
      "Yes    0.237055\n",
      "Name: proportion, dtype: float64\n",
      "RainToday\n",
      "No     0.763228\n",
      "Yes    0.236772\n",
      "Name: proportion, dtype: float64\n"
     ]
    }
   ],
   "source": [
    "from sklearn.model_selection import train_test_split\n",
    "\n",
    "# Split the data into training and test sets (80% train, 20% test) with stratification\n",
    "X_train, X_test, y_train, y_test = train_test_split(X, y, test_size=0.2, stratify=y, random_state=42)\n",
    "\n",
    "# Display class distribution in training and test sets\n",
    "print(y_train.value_counts(normalize=True))\n",
    "print(y_test.value_counts(normalize=True))\n"
   ]
  },
  {
   "cell_type": "code",
   "execution_count": 45,
   "id": "b2cd6799",
   "metadata": {},
   "outputs": [
    {
     "name": "stdout",
     "output_type": "stream",
     "text": [
      "Numeric Features: ['MinTemp', 'MaxTemp', 'Rainfall', 'Evaporation', 'Sunshine', 'WindGustSpeed', 'WindSpeed9am', 'WindSpeed3pm', 'Humidity9am', 'Humidity3pm', 'Pressure9am', 'Pressure3pm', 'Cloud9am', 'Cloud3pm', 'Temp9am', 'Temp3pm']\n",
      "Categorical Features: ['Location', 'WindGustDir', 'WindDir9am', 'WindDir3pm', 'RainYesterday', 'Season']\n"
     ]
    }
   ],
   "source": [
    "# Identify numerical and categorical features\n",
    "numeric_features = X_train.select_dtypes(include=['number']).columns.tolist()  \n",
    "categorical_features = X_train.select_dtypes(include=['object', 'category']).columns.tolist()\n",
    "\n",
    "# Display the detected features\n",
    "print(\"Numeric Features:\", numeric_features)\n",
    "print(\"Categorical Features:\", categorical_features)\n"
   ]
  },
  {
   "cell_type": "code",
   "execution_count": 46,
   "id": "8ca3557e",
   "metadata": {},
   "outputs": [
    {
     "name": "stdout",
     "output_type": "stream",
     "text": [
      "ColumnTransformer(transformers=[('num', StandardScaler(),\n",
      "                                 ['MinTemp', 'MaxTemp', 'Rainfall',\n",
      "                                  'Evaporation', 'Sunshine', 'WindGustSpeed',\n",
      "                                  'WindSpeed9am', 'WindSpeed3pm', 'Humidity9am',\n",
      "                                  'Humidity3pm', 'Pressure9am', 'Pressure3pm',\n",
      "                                  'Cloud9am', 'Cloud3pm', 'Temp9am',\n",
      "                                  'Temp3pm']),\n",
      "                                ('cat', OneHotEncoder(handle_unknown='ignore'),\n",
      "                                 ['Location', 'WindGustDir', 'WindDir9am',\n",
      "                                  'WindDir3pm', 'RainYesterday', 'Season'])])\n"
     ]
    }
   ],
   "source": [
    "from sklearn.preprocessing import StandardScaler, OneHotEncoder\n",
    "from sklearn.compose import ColumnTransformer\n",
    "\n",
    "# Define transformations\n",
    "numeric_transformer = StandardScaler()\n",
    "categorical_transformer = OneHotEncoder(handle_unknown='ignore')\n",
    "\n",
    "# Combine transformers into a ColumnTransformer\n",
    "preprocessor = ColumnTransformer(\n",
    "    transformers=[\n",
    "        ('num', numeric_transformer, numeric_features),  # Apply StandardScaler to numeric columns\n",
    "        ('cat', categorical_transformer, categorical_features)  # Apply OneHotEncoder to categorical columns\n",
    "    ]\n",
    ")\n",
    "\n",
    "# Display the preprocessor\n",
    "print(preprocessor)\n"
   ]
  },
  {
   "cell_type": "code",
   "execution_count": 48,
   "id": "6c1637c4",
   "metadata": {
    "scrolled": true
   },
   "outputs": [
    {
     "name": "stdout",
     "output_type": "stream",
     "text": [
      "Pipeline(steps=[('preprocessor',\n",
      "                 ColumnTransformer(transformers=[('num', StandardScaler(),\n",
      "                                                  ['MinTemp', 'MaxTemp',\n",
      "                                                   'Rainfall', 'Evaporation',\n",
      "                                                   'Sunshine', 'WindGustSpeed',\n",
      "                                                   'WindSpeed9am',\n",
      "                                                   'WindSpeed3pm',\n",
      "                                                   'Humidity9am', 'Humidity3pm',\n",
      "                                                   'Pressure9am', 'Pressure3pm',\n",
      "                                                   'Cloud9am', 'Cloud3pm',\n",
      "                                                   'Temp9am', 'Temp3pm']),\n",
      "                                                 ('cat',\n",
      "                                                  OneHotEncoder(handle_unknown='ignore'),\n",
      "                                                  ['Location', 'WindGustDir',\n",
      "                                                   'WindDir9am', 'WindDir3pm',\n",
      "                                                   'RainYesterday',\n",
      "                                                   'Season'])])),\n",
      "                ('classifier', RandomForestClassifier(random_state=42))])\n"
     ]
    }
   ],
   "source": [
    "# Create a pipeline with preprocessing and classifier\n",
    "pipeline = Pipeline(steps=[\n",
    "    ('preprocessor', preprocessor),  # Apply preprocessing (scaling + encoding)\n",
    "    ('classifier', RandomForestClassifier(random_state=42))  # Train a Random Forest model\n",
    "])\n",
    "\n",
    "# Display the pipeline\n",
    "print(pipeline)\n"
   ]
  },
  {
   "cell_type": "code",
   "execution_count": 49,
   "id": "c5b3e5b7",
   "metadata": {},
   "outputs": [
    {
     "name": "stdout",
     "output_type": "stream",
     "text": [
      "Fitting 5 folds for each of 12 candidates, totalling 60 fits\n",
      "Best Parameters: {'classifier__max_depth': 20, 'classifier__min_samples_split': 2, 'classifier__n_estimators': 100}\n",
      "Best Cross-Validation Accuracy: 0.8524400330851943\n"
     ]
    }
   ],
   "source": [
    "from sklearn.model_selection import GridSearchCV, StratifiedKFold\n",
    "\n",
    "# Define parameter grid for tuning Random Forest\n",
    "param_grid = {\n",
    "    'classifier__n_estimators': [50, 100],  # Number of trees in the forest\n",
    "    'classifier__max_depth': [None, 10, 20],  # Depth of trees\n",
    "    'classifier__min_samples_split': [2, 5]  # Minimum samples required to split a node\n",
    "}\n",
    "\n",
    "# Define cross-validation strategy (Stratified K-Fold)\n",
    "cv = StratifiedKFold(n_splits=5, shuffle=True, random_state=42)\n",
    "\n",
    "# Instantiate GridSearchCV\n",
    "grid_search = GridSearchCV(pipeline, param_grid, cv=cv, scoring='accuracy', verbose=2, n_jobs=-1)\n",
    "\n",
    "# Fit GridSearchCV to the training data\n",
    "grid_search.fit(X_train, y_train)\n",
    "\n",
    "# Display the best parameters\n",
    "print(\"Best Parameters:\", grid_search.best_params_)\n",
    "\n",
    "# Display the best score\n",
    "print(\"Best Cross-Validation Accuracy:\", grid_search.best_score_)\n"
   ]
  },
  {
   "cell_type": "code",
   "execution_count": 50,
   "id": "58836e52",
   "metadata": {},
   "outputs": [
    {
     "name": "stdout",
     "output_type": "stream",
     "text": [
      "Test set score: 0.84\n"
     ]
    }
   ],
   "source": [
    "# Evaluate the best model on the test set\n",
    "test_score = grid_search.score(X_test, y_test)  \n",
    "\n",
    "# Print the test set accuracy\n",
    "print(\"Test set score: {:.2f}\".format(test_score))\n"
   ]
  },
  {
   "cell_type": "code",
   "execution_count": 52,
   "id": "033f857d",
   "metadata": {},
   "outputs": [
    {
     "name": "stdout",
     "output_type": "stream",
     "text": [
      "Test set score: 0.84\n"
     ]
    }
   ],
   "source": [
    "# Evaluate the best model on the test set\n",
    "test_score = grid_search.score(X_test, y_test)  \n",
    "\n",
    "# Print the test set accuracy\n",
    "print(\"Test set score: {:.2f}\".format(test_score))\n"
   ]
  },
  {
   "cell_type": "code",
   "execution_count": 53,
   "id": "e1138896",
   "metadata": {},
   "outputs": [
    {
     "name": "stdout",
     "output_type": "stream",
     "text": [
      "['No' 'No' 'Yes' 'No' 'Yes' 'No' 'No' 'No' 'No' 'No']\n"
     ]
    }
   ],
   "source": [
    "# Get model predictions on the test set\n",
    "y_pred = grid_search.predict(X_test)\n",
    "\n",
    "# Display first few predictions\n",
    "print(y_pred[:10])  # Show first 10 predictions\n"
   ]
  },
  {
   "cell_type": "code",
   "execution_count": 54,
   "id": "dd8a4196",
   "metadata": {},
   "outputs": [
    {
     "name": "stdout",
     "output_type": "stream",
     "text": [
      "\n",
      "Classification Report:\n",
      "              precision    recall  f1-score   support\n",
      "\n",
      "          No       0.86      0.95      0.90      1154\n",
      "         Yes       0.75      0.51      0.61       358\n",
      "\n",
      "    accuracy                           0.84      1512\n",
      "   macro avg       0.81      0.73      0.76      1512\n",
      "weighted avg       0.84      0.84      0.83      1512\n",
      "\n"
     ]
    }
   ],
   "source": [
    "from sklearn.metrics import classification_report\n",
    "\n",
    "print(\"\\nClassification Report:\")\n",
    "print(classification_report(y_test, y_pred))\n"
   ]
  },
  {
   "cell_type": "code",
   "execution_count": 55,
   "id": "dfdd59f1",
   "metadata": {},
   "outputs": [
    {
     "data": {
      "image/png": "[encoded data removed]",
      "text/plain": [
       "<Figure size 640x480 with 2 Axes>"
      ]
     },
     "metadata": {},
     "output_type": "display_data"
    }
   ],
   "source": [
    "# Compute the confusion matrix\n",
    "conf_matrix = confusion_matrix(y_test, y_pred)\n",
    "\n",
    "# Create a ConfusionMatrixDisplay instance\n",
    "disp = ConfusionMatrixDisplay(confusion_matrix=conf_matrix)\n",
    "\n",
    "# Plot the confusion matrix\n",
    "disp.plot(cmap='Blues')\n",
    "plt.title('Confusion Matrix')\n",
    "plt.show()"
   ]
  },
  {
   "cell_type": "code",
   "execution_count": 56,
   "id": "24f4bd9e",
   "metadata": {},
   "outputs": [
    {
     "name": "stdout",
     "output_type": "stream",
     "text": [
      "Feature Importances: [0.04041762 0.04140688 0.02754715 0.03539602 0.08155977 0.05077909\n",
      " 0.03217049 0.03067384 0.03611862 0.12075166 0.08573009 0.09082679\n",
      " 0.02302508 0.03488263 0.03914612 0.04573276 0.005605   0.00631368\n",
      " 0.00511351 0.00103856 0.00123881 0.0005162  0.00690969 0.00107953\n",
      " 0.00279948 0.00378461 0.00218455 0.00366264 0.00078445 0.00298351\n",
      " 0.00359641 0.00378204 0.00387012 0.00233455 0.003651   0.00136422\n",
      " 0.00228652 0.00053146 0.00702336 0.00269929 0.00291358 0.00310203\n",
      " 0.00181629 0.00161778 0.00088218 0.00146895 0.00154479 0.00342281\n",
      " 0.0038787  0.00255293 0.00358639 0.00074961 0.00137549 0.00027985\n",
      " 0.00530608 0.00249424 0.00291937 0.00379038 0.00358129 0.00461654\n",
      " 0.00125773 0.00383148 0.00419527 0.0036612  0.00261198 0.00340141\n",
      " 0.00333951 0.00693148 0.00543681 0.00619269 0.00593479 0.00506015\n",
      " 0.00492839]\n"
     ]
    }
   ],
   "source": [
    "# Extract feature importances from the best model\n",
    "feature_importances = grid_search.best_estimator_['classifier'].feature_importances_\n",
    "\n",
    "# Display the feature importances\n",
    "print(\"Feature Importances:\", feature_importances)\n"
   ]
  },
  {
   "cell_type": "code",
   "execution_count": 59,
   "id": "e6496a5f",
   "metadata": {},
   "outputs": [
    {
     "data": {
      "image/png": "[encoded data removed]",
      "text/plain": [
       "<Figure size 1000x600 with 1 Axes>"
      ]
     },
     "metadata": {},
     "output_type": "display_data"
    }
   ],
   "source": [
    "import matplotlib.pyplot as plt\n",
    "import pandas as pd\n",
    "\n",
    "# Combine numeric and categorical feature names\n",
    "categorical_feature_names = grid_search.best_estimator_['preprocessor'] \\\n",
    "                                .named_transformers_['cat'] \\\n",
    "                                .get_feature_names_out(categorical_features)\n",
    "\n",
    "# Combine numeric features with the one-hot encoded categorical feature names\n",
    "feature_names = numeric_features + list(categorical_feature_names)\n",
    "\n",
    "# Extract feature importances from the best model\n",
    "feature_importances = grid_search.best_estimator_['classifier'].feature_importances_\n",
    "\n",
    "# Create a DataFrame to hold feature names and their importances\n",
    "importance_df = pd.DataFrame({'Feature': feature_names,\n",
    "                              'Importance': feature_importances\n",
    "                             }).sort_values(by='Importance', ascending=False)\n",
    "\n",
    "# Select top N features (change N to display more or fewer)\n",
    "N = 20\n",
    "top_features = importance_df.head(N)\n",
    "\n",
    "# Plotting\n",
    "plt.figure(figsize=(10, 6))\n",
    "plt.barh(top_features['Feature'], top_features['Importance'], color='skyblue')\n",
    "plt.gca().invert_yaxis()  # Invert y-axis to show the most important feature on top\n",
    "plt.title(f'Top {N} Most Important Features in predicting whether it will rain today')\n",
    "plt.xlabel('Importance Score')\n",
    "plt.show()\n"
   ]
  },
  {
   "cell_type": "code",
   "execution_count": 60,
   "id": "d69175b1",
   "metadata": {},
   "outputs": [
    {
     "name": "stdout",
     "output_type": "stream",
     "text": [
      "Fitting 5 folds for each of 4 candidates, totalling 20 fits\n"
     ]
    }
   ],
   "source": [
    "# Replace RandomForestClassifier with LogisticRegression\n",
    "pipeline.set_params(classifier=LogisticRegression(random_state=42))\n",
    "\n",
    "# update the model's estimator to use the new pipeline\n",
    "grid_search.estimator = pipeline\n",
    "\n",
    "# Define a new grid with Logistic Regression parameters\n",
    "param_grid = {\n",
    "    # 'classifier__n_estimators': [50, 100],\n",
    "    # 'classifier__max_depth': [None, 10, 20],\n",
    "    # 'classifier__min_samples_split': [2, 5],\n",
    "    'classifier__solver': ['liblinear'],\n",
    "    'classifier__penalty': ['l1', 'l2'],\n",
    "    'classifier__class_weight': [None, 'balanced']\n",
    "}\n",
    "\n",
    "grid_search.param_grid = param_grid\n",
    "\n",
    "# Fit the updated pipeline with LogisticRegression\n",
    "grid_search.fit(X_train, y_train)\n",
    "\n",
    "# Make predictions\n",
    "y_pred = grid_search.predict(X_test)\n"
   ]
  },
  {
   "cell_type": "code",
   "execution_count": 61,
   "id": "ea369c75",
   "metadata": {},
   "outputs": [
    {
     "name": "stdout",
     "output_type": "stream",
     "text": [
      "              precision    recall  f1-score   support\n",
      "\n",
      "          No       0.86      0.93      0.89      1154\n",
      "         Yes       0.69      0.51      0.59       358\n",
      "\n",
      "    accuracy                           0.83      1512\n",
      "   macro avg       0.77      0.72      0.74      1512\n",
      "weighted avg       0.82      0.83      0.82      1512\n",
      "\n"
     ]
    },
    {
     "data": {
      "image/png": "[encoded data removed]",
      "text/plain": [
       "<Figure size 640x480 with 2 Axes>"
      ]
     },
     "metadata": {},
     "output_type": "display_data"
    }
   ],
   "source": [
    "#comparing results to the previous model\n",
    "print(classification_report(y_test, y_pred))\n",
    "\n",
    "# Generate the confusion matrix \n",
    "conf_matrix = confusion_matrix(y_test, y_pred)\n",
    "\n",
    "plt.figure()\n",
    "sns.heatmap(conf_matrix, annot=True, cmap='Blues', fmt='d')\n",
    "\n",
    "# Set the title and labels\n",
    "plt.title('Titanic Classification Confusion Matrix')\n",
    "plt.xlabel('Predicted')\n",
    "plt.ylabel('Actual')\n",
    "\n",
    "# Show the plot\n",
    "plt.tight_layout()\n",
    "plt.show()"
   ]
  },
  {
   "cell_type": "markdown",
   "id": "ea899fa8",
   "metadata": {},
   "source": [
    "##Summary\n",
    "\n",
    "This project focuses on building a predictive model to forecast rainfall in Melbourne based on historical weather data. The dataset includes various weather attributes, such as temperature, humidity, wind speed, and pressure, for different locations in Melbourne. The data preprocessing steps involved cleaning the dataset by handling missing values and converting the `Date` column into seasons. The target variable, originally \"RainTomorrow,\" was renamed to \"RainToday\" to better reflect the prediction goal, and the dataset was further filtered to include only specific locations. The data was then split into training and testing sets using stratified sampling to maintain the class distribution.\n",
    "\n",
    "The project implemented machine learning models, primarily focusing on Random Forest and Logistic Regression classifiers. Feature engineering was employed to handle both numeric and categorical features, where the numeric features were standardized and categorical features were one-hot encoded. Hyperparameter tuning was conducted using GridSearchCV with cross-validation to optimize model performance. The results showed that both models provided valuable insights, but the Logistic Regression model, after parameter tuning, was especially effective in balancing the trade-off between precision and recall for the imbalanced target variable.\n",
    "\n",
    "In the final steps, feature importance was extracted from the best-performing model, providing valuable insights into which weather attributes had the most significant impact on predicting rainfall. The project concluded by comparing the performance of both models using metrics such as accuracy, confusion matrix, and classification reports. This analysis can be extended further for real-time predictions or applied to similar predictive tasks in meteorology, offering a robust approach to weather forecasting using machine learning techniques."
   ]
  },
  {
   "cell_type": "code",
   "execution_count": null,
   "id": "a934afac",
   "metadata": {},
   "outputs": [],
   "source": []
  }
 ],
 "metadata": {
  "kernelspec": {
   "display_name": "Python 3 (ipykernel)",
   "language": "python",
   "name": "python3"
  },
  "language_info": {
   "codemirror_mode": {
    "name": "ipython",
    "version": 3
   },
   "file_extension": ".py",
   "mimetype": "text/x-python",
   "name": "python",
   "nbconvert_exporter": "python",
   "pygments_lexer": "ipython3",
   "version": "3.11.11"
  }
 },
 "nbformat": 4,
 "nbformat_minor": 5
}
